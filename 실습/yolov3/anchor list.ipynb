{
 "cells": [
  {
   "cell_type": "markdown",
   "id": "9a928f4a",
   "metadata": {},
   "source": [
    "yolov3은 총 3개의 scale이 출력된다. 이때 미리 정의되어있는 3개의 다른 anchor box를 가지고 각각의 scale에서 객체를 탐지한다.<br>\n",
    "3개의 scale x 서로다른 3개의 anchor box = 9 가 된다.<br>\n",
    "즉, anchor box를 총 9번 사용한다."
   ]
  },
  {
   "cell_type": "code",
   "execution_count": 56,
   "id": "702c167d",
   "metadata": {},
   "outputs": [],
   "source": [
    "import torch\n",
    "\n",
    "import numpy as np\n",
    "import pandas as pd\n",
    "\n",
    "from sklearn.cluster import KMeans"
   ]
  },
  {
   "cell_type": "code",
   "execution_count": 2,
   "id": "e0703ad6",
   "metadata": {},
   "outputs": [],
   "source": [
    "df = pd.read_csv('./train/final.csv')"
   ]
  },
  {
   "cell_type": "code",
   "execution_count": 3,
   "id": "b9fcc93a",
   "metadata": {},
   "outputs": [
    {
     "data": {
      "text/html": [
       "<div>\n",
       "<style scoped>\n",
       "    .dataframe tbody tr th:only-of-type {\n",
       "        vertical-align: middle;\n",
       "    }\n",
       "\n",
       "    .dataframe tbody tr th {\n",
       "        vertical-align: top;\n",
       "    }\n",
       "\n",
       "    .dataframe thead th {\n",
       "        text-align: right;\n",
       "    }\n",
       "</style>\n",
       "<table border=\"1\" class=\"dataframe\">\n",
       "  <thead>\n",
       "    <tr style=\"text-align: right;\">\n",
       "      <th></th>\n",
       "      <th>img_name</th>\n",
       "      <th>class</th>\n",
       "      <th>center_x</th>\n",
       "      <th>center_y</th>\n",
       "      <th>w</th>\n",
       "      <th>h</th>\n",
       "    </tr>\n",
       "  </thead>\n",
       "  <tbody>\n",
       "    <tr>\n",
       "      <th>0</th>\n",
       "      <td>C:\\Users\\JungHyeona\\Documents\\deeplearning_sem...</td>\n",
       "      <td>0</td>\n",
       "      <td>0.5083</td>\n",
       "      <td>1.5664</td>\n",
       "      <td>0.2822</td>\n",
       "      <td>0.5352</td>\n",
       "    </tr>\n",
       "    <tr>\n",
       "      <th>1</th>\n",
       "      <td>C:\\Users\\JungHyeona\\Documents\\deeplearning_sem...</td>\n",
       "      <td>0</td>\n",
       "      <td>0.4541</td>\n",
       "      <td>1.4453</td>\n",
       "      <td>0.2891</td>\n",
       "      <td>0.4961</td>\n",
       "    </tr>\n",
       "    <tr>\n",
       "      <th>2</th>\n",
       "      <td>C:\\Users\\JungHyeona\\Documents\\deeplearning_sem...</td>\n",
       "      <td>0</td>\n",
       "      <td>0.4385</td>\n",
       "      <td>1.5928</td>\n",
       "      <td>0.3984</td>\n",
       "      <td>0.6348</td>\n",
       "    </tr>\n",
       "    <tr>\n",
       "      <th>3</th>\n",
       "      <td>C:\\Users\\JungHyeona\\Documents\\deeplearning_sem...</td>\n",
       "      <td>0</td>\n",
       "      <td>0.4697</td>\n",
       "      <td>1.2646</td>\n",
       "      <td>0.1641</td>\n",
       "      <td>0.3223</td>\n",
       "    </tr>\n",
       "    <tr>\n",
       "      <th>4</th>\n",
       "      <td>C:\\Users\\JungHyeona\\Documents\\deeplearning_sem...</td>\n",
       "      <td>0</td>\n",
       "      <td>0.5103</td>\n",
       "      <td>1.6006</td>\n",
       "      <td>0.3037</td>\n",
       "      <td>0.5527</td>\n",
       "    </tr>\n",
       "  </tbody>\n",
       "</table>\n",
       "</div>"
      ],
      "text/plain": [
       "                                            img_name  class  center_x  \\\n",
       "0  C:\\Users\\JungHyeona\\Documents\\deeplearning_sem...      0    0.5083   \n",
       "1  C:\\Users\\JungHyeona\\Documents\\deeplearning_sem...      0    0.4541   \n",
       "2  C:\\Users\\JungHyeona\\Documents\\deeplearning_sem...      0    0.4385   \n",
       "3  C:\\Users\\JungHyeona\\Documents\\deeplearning_sem...      0    0.4697   \n",
       "4  C:\\Users\\JungHyeona\\Documents\\deeplearning_sem...      0    0.5103   \n",
       "\n",
       "   center_y       w       h  \n",
       "0    1.5664  0.2822  0.5352  \n",
       "1    1.4453  0.2891  0.4961  \n",
       "2    1.5928  0.3984  0.6348  \n",
       "3    1.2646  0.1641  0.3223  \n",
       "4    1.6006  0.3037  0.5527  "
      ]
     },
     "execution_count": 3,
     "metadata": {},
     "output_type": "execute_result"
    }
   ],
   "source": [
    "df.head()"
   ]
  },
  {
   "cell_type": "markdown",
   "id": "ed08971c",
   "metadata": {},
   "source": [
    "anchors = [[(0.28, 0.22), (0.38, 0.48), (0.9, 0.78)]]\n",
    "\n",
    "예시 값을 기준으로 볼 때 내가 탐지해야하는 객체는 총 4가지이다.<br>\n",
    "때문에 나는 스케일 한개에 총 4개의 값이 있어햐 함.<br>\n",
    "-> 밑에 함수를 수정해주어야 함.\n",
    "\n",
    "1. if문으로 class별로 값을 구하기\n",
    "2. 각 scale마다 값을 변경해서 구해야함."
   ]
  },
  {
   "cell_type": "code",
   "execution_count": 92,
   "id": "46c88a7c",
   "metadata": {},
   "outputs": [],
   "source": [
    "# K-means 클러스터링을 사용하여 앵커 박스 크기를 결정\n",
    "def kmeans_anchors(object_sizes, num_anchors, num_iterations=1000):\n",
    "    num_objects = len(object_sizes)\n",
    "    object_sizes = np.array(object_sizes)\n",
    "    \n",
    "    np.random.seed(42)\n",
    "    # K-means++ 초기화\n",
    "    centroids = [object_sizes[np.random.choice(num_objects)]]\n",
    "    for _ in range(num_anchors - 1):\n",
    "        distances = np.min(np.linalg.norm(object_sizes[:, None] - centroids, axis=2), axis=1)\n",
    "        probabilities = distances / distances.sum()\n",
    "        new_centroid = object_sizes[np.random.choice(num_objects, p=probabilities)]\n",
    "        centroids.append(new_centroid)\n",
    "    \n",
    "    anchors = np.array(centroids)\n",
    "    \n",
    "    for _ in range(num_iterations):\n",
    "        # 각 객체에 대해 가장 가까운 앵커 박스 인덱스 계산\n",
    "        anchor_indices = np.argmin(np.linalg.norm(object_sizes[:, None] - anchors, axis=2), axis=1)\n",
    "\n",
    "        # 새로운 앵커 박스 위치 계산\n",
    "        new_anchors = np.array([object_sizes[anchor_indices == i].mean(axis=0) for i in range(num_anchors)])\n",
    "\n",
    "        # 앵커 박스 위치 업데이트\n",
    "        anchors = new_anchors\n",
    "\n",
    "    return anchors"
   ]
  },
  {
   "cell_type": "code",
   "execution_count": 94,
   "id": "0fd5ce31",
   "metadata": {
    "scrolled": true
   },
   "outputs": [
    {
     "name": "stdout",
     "output_type": "stream",
     "text": [
      "[[0.15058857 0.11373818]\n",
      " [0.22650095 0.40549976]\n",
      " [0.26754979 0.47092382]\n",
      " [0.36907619 0.62416429]\n",
      " [0.17728742 0.3335956 ]\n",
      " [0.207473   0.08130346]\n",
      " [0.31074103 0.5441398 ]\n",
      " [0.17144107 0.17693527]\n",
      " [0.15117643 0.06036135]]\n"
     ]
    }
   ],
   "source": [
    "# 앵커 박스 크기를 5개로 설정하고자 한다면 다음과 같이 호출합니다.\n",
    "num_anchors = 9\n",
    "\n",
    "# 데이터셋에서 객체의 크기를 리스트로 저장\n",
    "#object_widths = df['w'].tolist()\n",
    "#object_heights = df['h'].tolist()\n",
    "#object_size = list(zip(object_widths, object_heights))\n",
    "object_sizes = np.array([(10, 13), (16, 30), (33, 23), (30, 61), (62, 45), (59, 119), (116, 90), (156, 198), (373, 326)])\n",
    "\n",
    "anchors = kmeans_anchors(object_size, num_anchors)\n",
    "print(anchors)"
   ]
  },
  {
   "cell_type": "code",
   "execution_count": null,
   "id": "d28fc60b",
   "metadata": {},
   "outputs": [],
   "source": [
    "[[(0.15058857 0.11373818), (0.22650095 0.40549976), (0.26754979 0.47092382)],\n",
    " [(0.36907619 0.62416429), (0.17728742 0.33359560), (0.207473   0.08130346)],\n",
    " [(0.31074103 0.5441398), (0.17144107 0.1769352), (0.15117643 0.06036135)]]"
   ]
  },
  {
   "cell_type": "code",
   "execution_count": null,
   "id": "a1a3ca48",
   "metadata": {},
   "outputs": [],
   "source": [
    "[[(0.1505, 0.1137), (0.2265, 0.4055), (0.2675, 0.4709)],\n",
    " [(0.3691, 0.6242), (0.1773, 0.3336), (0.2075, 0.0813)],\n",
    " [(0.3107, 0.5441), (0.1714, 0.1769), (0.1512, 0.0604)]]"
   ]
  }
 ],
 "metadata": {
  "kernelspec": {
   "display_name": "Python 3 (ipykernel)",
   "language": "python",
   "name": "python3"
  },
  "language_info": {
   "codemirror_mode": {
    "name": "ipython",
    "version": 3
   },
   "file_extension": ".py",
   "mimetype": "text/x-python",
   "name": "python",
   "nbconvert_exporter": "python",
   "pygments_lexer": "ipython3",
   "version": "3.9.13"
  }
 },
 "nbformat": 4,
 "nbformat_minor": 5
}
