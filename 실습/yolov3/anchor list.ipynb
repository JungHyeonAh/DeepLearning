{
 "cells": [
  {
   "cell_type": "markdown",
   "id": "9a928f4a",
   "metadata": {},
   "source": [
    "yolov3은 총 3개의 scale이 출력된다. 이때 미리 정의되어있는 3개의 다른 anchor box를 가지고 각각의 scale에서 객체를 탐지한다.\n",
    "3개의 scale x 서로다른 3개의 anchor box = 9 가 된다.\n",
    "즉, anchor box를 총 9번 사용한다."
   ]
  },
  {
   "cell_type": "code",
   "execution_count": 3,
   "id": "702c167d",
   "metadata": {},
   "outputs": [],
   "source": [
    "import numpy as np\n",
    "import pandas as pd\n",
    "\n",
    "from sklearn.cluster import KMeans"
   ]
  },
  {
   "cell_type": "markdown",
   "id": "ed08971c",
   "metadata": {},
   "source": [
    "anchors = [[(0.28, 0.22), (0.38, 0.48), (0.9, 0.78)]]\n",
    "\n",
    "예시 값을 기준으로 볼 때 내가 탐지해야하는 객체는 총 4가지이다.<br>\n",
    "때문에 나는 스케일 한개에 총 4개의 값이 있어햐 함.<br>\n",
    "-> 밑에 함수를 수정해주어야 함.\n",
    "\n",
    "1. if문으로 class별로 값을 구하기\n",
    "2. 각 scale마다 값을 변경해서 구해야함."
   ]
  },
  {
   "cell_type": "code",
   "execution_count": 51,
   "id": "2854d55e",
   "metadata": {},
   "outputs": [],
   "source": [
    "def calculate_anchors_from_csv(csv_file, k, S):  # csv파일 불러와야하기 때문에 매개변수에 csv_file 써주기\n",
    "    # Load the CSV file containing bounding box width and height\n",
    "    df = pd.read_csv(csv_file)\n",
    "\n",
    "    # Extract bounding box width and height from the DataFrame\n",
    "    box_widths = df['w'].values\n",
    "    box_heights = df['h'].values\n",
    "    \n",
    "    # Normalize bounding box width and height to the input_shape of the YOLO model\n",
    "    norm_widths = box_widths / S[0]\n",
    "    norm_heights = box_heights / S[0]\n",
    "    print('input_shape : ', S[0])\n",
    "    \n",
    "    # Stack width and height into a single numpy array\n",
    "    data = np.vstack((norm_widths, norm_heights)).T\n",
    "    print('data : ', data)\n",
    "    \n",
    "    # Perform k-means clustering\n",
    "    kmeans = KMeans(n_clusters=k, random_state=0)\n",
    "    kmeans.fit(data)\n",
    "\n",
    "    # Get the centroids (anchors) from the k-means clustering\n",
    "    anchors = kmeans.cluster_centers_\n",
    "    print('anchors : ', anchors)\n",
    "    \n",
    "    # Denormalize the anchors back to the input_shape of the YOLO model\n",
    "    anchors *= input_shape\n",
    "    print('anchors *= input_shape : ', anchors)\n",
    "    \n",
    "    # Sort anchors in ascending order (optional)\n",
    "    anchors = anchors[np.argsort(anchors[:, 0])]\n",
    "    print('final : ', anchors)\n",
    "    \n",
    "    return anchors"
   ]
  },
  {
   "cell_type": "code",
   "execution_count": 52,
   "id": "0fd5ce31",
   "metadata": {
    "scrolled": true
   },
   "outputs": [
    {
     "name": "stdout",
     "output_type": "stream",
     "text": [
      "input_shape :  (13, 13)\n",
      "data :  [[3.23076923 8.30769231]]\n",
      "anchors :  [[3.23076923 8.30769231]]\n",
      "anchors *= input_shape :  [[ 42. 108.]]\n",
      "final :  [[ 42. 108.]]\n",
      "Calculated Anchors: [[ 42. 108.]]\n"
     ]
    },
    {
     "name": "stderr",
     "output_type": "stream",
     "text": [
      "C:\\Users\\1111\\anaconda3\\lib\\site-packages\\sklearn\\cluster\\_kmeans.py:870: FutureWarning: The default value of `n_init` will change from 10 to 'auto' in 1.4. Set the value of `n_init` explicitly to suppress the warning\n",
      "  warnings.warn(\n",
      "C:\\Users\\1111\\anaconda3\\lib\\site-packages\\sklearn\\cluster\\_kmeans.py:1382: UserWarning: KMeans is known to have a memory leak on Windows with MKL, when there are less chunks than available threads. You can avoid it by setting the environment variable OMP_NUM_THREADS=1.\n",
      "  warnings.warn(\n"
     ]
    }
   ],
   "source": [
    "# Example usage:\n",
    "csv_file = './train/final.csv'  # Replace with the path to your CSV file\n",
    "# 클러스터링은 데이터셋에 있는 bounding box들의 크기를 고려하여 적절한 anchor 값을 추정하는 데 도움이 됩니다.\n",
    "\n",
    "# 한 객체를 탐지할 때 사용할 anchor box개수. 보통 5~9개로 지정한다.\n",
    "# 이미지 특성에 맞게 값을 조정하기.\n",
    "k = 5\n",
    "# The input shape of your YOLO model (width, height)\n",
    "S = [13, 26, 52]\n",
    "\n",
    "anchors = calculate_anchors_from_csv(csv_file, k, S)\n",
    "print(\"Calculated Anchors:\", anchors)"
   ]
  },
  {
   "cell_type": "code",
   "execution_count": null,
   "id": "d8055c1e",
   "metadata": {},
   "outputs": [],
   "source": []
  }
 ],
 "metadata": {
  "kernelspec": {
   "display_name": "Python 3 (ipykernel)",
   "language": "python",
   "name": "python3"
  },
  "language_info": {
   "codemirror_mode": {
    "name": "ipython",
    "version": 3
   },
   "file_extension": ".py",
   "mimetype": "text/x-python",
   "name": "python",
   "nbconvert_exporter": "python",
   "pygments_lexer": "ipython3",
   "version": "3.8.5"
  }
 },
 "nbformat": 4,
 "nbformat_minor": 5
}
