{
 "cells": [
  {
   "cell_type": "code",
   "execution_count": null,
   "id": "5161a0b6",
   "metadata": {},
   "outputs": [],
   "source": []
  },
  {
   "cell_type": "code",
   "execution_count": 3,
   "id": "2bec338a",
   "metadata": {},
   "outputs": [
    {
     "data": {
      "text/plain": [
       "'\\nfrom utils import (\\n    cells_to_bboxes,\\n    iou_width_height as iou,\\n    non_max_suppression as nms,\\n    plot_image\\n)\\n'"
      ]
     },
     "execution_count": 3,
     "metadata": {},
     "output_type": "execute_result"
    }
   ],
   "source": [
    "import numpy as np\n",
    "import os\n",
    "import pandas as pd\n",
    "import torch\n",
    "\n",
    "from PIL import Image, ImageFile\n",
    "from torch.utils.data import Dataset, DataLoader\n",
    "\n",
    "# utils.ipynb 파일에서 해당 함수를 불러오기 위한 라이브러리\n",
    "# jupyter notebook에서 가져올 수 있는 방법 알아보기.\n",
    "\n",
    "'''\n",
    "from utils import (\n",
    "    cells_to_bboxes,\n",
    "    iou_width_height as iou,\n",
    "    non_max_suppression as nms,\n",
    "    plot_image\n",
    ")\n",
    "'''"
   ]
  },
  {
   "cell_type": "code",
   "execution_count": 13,
   "id": "8ca85523",
   "metadata": {},
   "outputs": [
    {
     "ename": "NameError",
     "evalue": "name 'torch' is not defined",
     "output_type": "error",
     "traceback": [
      "\u001b[1;31m---------------------------------------------------------------------------\u001b[0m",
      "\u001b[1;31mNameError\u001b[0m                                 Traceback (most recent call last)",
      "Input \u001b[1;32mIn [13]\u001b[0m, in \u001b[0;36m<cell line: 1>\u001b[1;34m()\u001b[0m\n\u001b[1;32m----> 1\u001b[0m targets \u001b[38;5;241m=\u001b[39m [torch\u001b[38;5;241m.\u001b[39mzeros(((\u001b[38;5;241m3\u001b[39m, \u001b[38;5;241m3\u001b[39m, \u001b[38;5;241m2\u001b[39m), S, S, \u001b[38;5;241m6\u001b[39m)) \u001b[38;5;28;01mfor\u001b[39;00m S \u001b[38;5;129;01min\u001b[39;00m S]\n",
      "Input \u001b[1;32mIn [13]\u001b[0m, in \u001b[0;36m<listcomp>\u001b[1;34m(.0)\u001b[0m\n\u001b[1;32m----> 1\u001b[0m targets \u001b[38;5;241m=\u001b[39m [\u001b[43mtorch\u001b[49m\u001b[38;5;241m.\u001b[39mzeros(((\u001b[38;5;241m3\u001b[39m, \u001b[38;5;241m3\u001b[39m, \u001b[38;5;241m2\u001b[39m), S, S, \u001b[38;5;241m6\u001b[39m)) \u001b[38;5;28;01mfor\u001b[39;00m S \u001b[38;5;129;01min\u001b[39;00m S]\n",
      "\u001b[1;31mNameError\u001b[0m: name 'torch' is not defined"
     ]
    }
   ],
   "source": [
    "S = [13, 26, 52]\n",
    "targets = [torch.zeros(((3, 3, 2), S, S, 6)) for S in S]"
   ]
  },
  {
   "cell_type": "markdown",
   "id": "e5df1fe9",
   "metadata": {},
   "source": [
    "## 기본 변수 정의"
   ]
  },
  {
   "cell_type": "code",
   "execution_count": 11,
   "id": "b582fee2",
   "metadata": {},
   "outputs": [],
   "source": [
    "ori_dir = './train/'\n",
    "img_dir = ori_dir + 'image/'\n",
    "label_dir = ori_dir + 'label/'\n",
    "\n",
    "train_csv = ori_dir + 'train.csv'\n",
    "\n",
    "img_size = 416\n",
    "S = [13, 26, 52]\n",
    "C = 4\n",
    "\n",
    "# Note these have been rescaled to be between [0, 1]\n",
    "# anchor list,ipynb 파일에서 값을 조정해주어야 함.\n",
    "# 주의할 점은 나는 총 4개의 객체를 탐지해야하기 때문에, 4개의 값을 구해야함.\n",
    "anchors = [\n",
    "    # S=13일 때의 scale 값\n",
    "    [(0.28, 0.22), (0.38, 0.48), (0.9, 0.78)],\n",
    "    # S=26일 때의 scale 값\n",
    "    [(0.07, 0.15), (0.15, 0.11), (0.14, 0.29)],\n",
    "    # S=52일 때의 scale 값\n",
    "    [(0.02, 0.03), (0.04, 0.07), (0.08, 0.06)]]\n",
    "\n",
    "classes = [ \"AC\", \"FL\", \"HC\", \"HUM\" ]"
   ]
  },
  {
   "cell_type": "code",
   "execution_count": null,
   "id": "ceeeb51d",
   "metadata": {},
   "outputs": [],
   "source": [
    "# train.csv 파일 읽어오기\n",
    "df = pd.read_csv(train_csv)"
   ]
  },
  {
   "cell_type": "code",
   "execution_count": null,
   "id": "550ad04c",
   "metadata": {},
   "outputs": [],
   "source": [
    "df"
   ]
  },
  {
   "cell_type": "markdown",
   "id": "cf7ac52b",
   "metadata": {},
   "source": [
    "### transform 정의"
   ]
  },
  {
   "cell_type": "code",
   "execution_count": null,
   "id": "708090fb",
   "metadata": {},
   "outputs": [],
   "source": [
    "data_transform = transform[(\n",
    "    \n",
    ")]"
   ]
  },
  {
   "cell_type": "code",
   "execution_count": null,
   "id": "78c0d71d",
   "metadata": {},
   "outputs": [],
   "source": [
    "class YOLODataset(Dataset):\n",
    "    def __init__(\n",
    "        self,\n",
    "        csv_file,\n",
    "        img_dir,\n",
    "        label_dir,\n",
    "        anchors,\n",
    "        image_size=416,\n",
    "        S=[13, 26, 52],\n",
    "        C=4,\n",
    "        transform=None,\n",
    "    ):\n",
    "        self.annotations = pd.read_csv(csv_file)\n",
    "        self.img_dir = img_dir\n",
    "        self.label_dir = label_dir\n",
    "        self.image_size = image_size\n",
    "        self.transform = transform\n",
    "        self.S = S\n",
    "        \n",
    "        self.anchors = torch.tensor(anchors[0] + anchors[1] + anchors[2])  # for all 3 scales\n",
    "        self.num_anchors = self.anchors.shape[0]\n",
    "        self.num_anchors_per_scale = self.num_anchors // 3\n",
    "        self.C = C\n",
    "        self.ignore_iou_thresh = 0.5\n",
    "\n",
    "    def __len__(self):\n",
    "        return len(self.annotations)\n",
    "\n",
    "    def __getitem__(self, index):\n",
    "        label_path = os.path.join(self.label_dir, self.annotations.iloc[index, 1])\n",
    "        bboxes = np.roll(np.loadtxt(fname=label_path, delimiter=\" \", ndmin=2), 4, axis=1).tolist()\n",
    "        \n",
    "        img_path = os.path.join(self.img_dir, self.annotations.iloc[index, 0])\n",
    "        image = np.array(Image.open(img_path).convert(\"RGB\"))\n",
    "\n",
    "        if self.transform:\n",
    "            augmentations = self.transform(image=image, bboxes=bboxes)\n",
    "            image = augmentations[\"image\"]\n",
    "\n",
    "        # Below assumes 3 scale predictions (as paper) and same num of anchors per scale\n",
    "        # target에는 grid cell에서 객체의 위치, 크기, 클래스 정보가 저장이 된다.\n",
    "        targets = [torch.zeros((self.num_anchors // 3, S, S, 6)) for S in self.S]\n",
    "        \n",
    "        for box in range(len(df)):\n",
    "            # box[2:4] -> df['w'], df['h']의미  =>  수정하기.\n",
    "            # bounding box와 anchor 사이의 IoU계산한 값 저장. 가장 적절한 anchor 인덱스 찾아냄.\n",
    "            iou_anchors = iou(torch.tensor(box[2:4]), self.anchors)  \n",
    "            anchor_indices = iou_anchors.argsort(descending=True, dim=0)\n",
    "            \n",
    "            class_label = df['class']\n",
    "            x = df['center_x']\n",
    "            y = df['center_y']\n",
    "            width = df['w']\n",
    "            height = df['h']\n",
    "            has_anchor = [False] * 3  # each scale should have one anchor\n",
    "            \n",
    "            for anchor_idx in anchor_indices:\n",
    "                # bounding box가 어떤 크기의 grid cell에 해당하는지 결정.\n",
    "                scale_idx = anchor_idx // self.num_anchors_per_scale\n",
    "                anchor_on_scale = anchor_idx % self.num_anchors_per_scale\n",
    "                S = self.S[scale_idx]\n",
    "                \n",
    "                # i, j 계산해서 grid cell 위치 얻기.\n",
    "                i, j = int(S * y), int(S * x)  # which cell\n",
    "                anchor_taken = targets[scale_idx][anchor_on_scale, i, j, 0]\n",
    "                \n",
    "                # 아직 grid cell에 앵커가 할당되지 않거나, 해당 scale에서 anchor를 사용할 수 없는 경우\n",
    "                # -> 해당 앵커의 bbox 정보 할당하기\n",
    "                if not anchor_taken and not has_anchor[scale_idx]:\n",
    "                    targets[scale_idx][anchor_on_scale, i, j, 0] = 1\n",
    "                    x_cell, y_cell = S * x - j, S * y - i  # both between [0,1]\n",
    "                    width_cell, height_cell = (\n",
    "                        width * S,\n",
    "                        height * S,\n",
    "                    )  # can be greater than 1 since it's relative to cell\n",
    "                    box_coordinates = torch.tensor(\n",
    "                        [x_cell, y_cell, width_cell, height_cell]\n",
    "                    )\n",
    "                    targets[scale_idx][anchor_on_scale, i, j, 1:5] = box_coordinates\n",
    "                    targets[scale_idx][anchor_on_scale, i, j, 5] = int(class_label)\n",
    "                    has_anchor[scale_idx] = True\n",
    "                    \n",
    "                # 할당은 되었지만, IoU가 설정한 임계값보다 큰 경우\n",
    "                # -> 해당 앵커에 대한 예측 무시.\n",
    "                elif not anchor_taken and iou_anchors[anchor_idx] > self.ignore_iou_thresh:\n",
    "                    targets[scale_idx][anchor_on_scale, i, j, 0] = -1  # ignore prediction\n",
    "        return image, tuple(targets)"
   ]
  },
  {
   "cell_type": "code",
   "execution_count": null,
   "id": "a30b4d56",
   "metadata": {},
   "outputs": [],
   "source": [
    "def test():\n",
    "\n",
    "    dataset = YOLODataset(\n",
    "        train_csv,\n",
    "        img_dir,\n",
    "        label_dir,\n",
    "        S,\n",
    "        anchors=anchors,\n",
    "        transform=transform,\n",
    "    )\n",
    "    \n",
    "    scaled_anchors = torch.tensor(anchors) / (\n",
    "        1 / torch.tensor(S).unsqueeze(1).unsqueeze(1).repeat(1, 3, 2)\n",
    "    )\n",
    "    \n",
    "    loader = DataLoader(dataset=dataset, batch_size=1, shuffle=True)\n",
    "    \n",
    "    for x, y in loader:\n",
    "        boxes = []\n",
    "\n",
    "        for i in range(y[0].shape[1]):\n",
    "            anchor = scaled_anchors[i]\n",
    "            print(anchor.shape)\n",
    "            print(y[i].shape)\n",
    "            boxes += cells_to_bboxes(\n",
    "                y[i], is_preds=False, S=y[i].shape[2], anchors=anchor\n",
    "            )[0]\n",
    "        boxes = nms(boxes, iou_threshold=1, threshold=0.7, box_format=\"midpoint\")\n",
    "        print(boxes)\n",
    "        plot_image(x[0].permute(1, 2, 0).to(\"cpu\"), boxes)"
   ]
  },
  {
   "cell_type": "code",
   "execution_count": null,
   "id": "599e0800",
   "metadata": {},
   "outputs": [],
   "source": [
    "if __name__ == \"__main__\":\n",
    "    test()"
   ]
  }
 ],
 "metadata": {
  "kernelspec": {
   "display_name": "Python 3 (ipykernel)",
   "language": "python",
   "name": "python3"
  },
  "language_info": {
   "codemirror_mode": {
    "name": "ipython",
    "version": 3
   },
   "file_extension": ".py",
   "mimetype": "text/x-python",
   "name": "python",
   "nbconvert_exporter": "python",
   "pygments_lexer": "ipython3",
   "version": "3.8.5"
  }
 },
 "nbformat": 4,
 "nbformat_minor": 5
}
