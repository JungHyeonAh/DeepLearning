{
 "cells": [
  {
   "cell_type": "markdown",
   "id": "4a47b0e3",
   "metadata": {},
   "source": [
    "## 이 출처 따라서 yolov3 만들어보기\n",
    "https://wolfy.tistory.com/259"
   ]
  },
  {
   "cell_type": "code",
   "execution_count": 4,
   "id": "e1858044",
   "metadata": {},
   "outputs": [],
   "source": [
    "import sys\n",
    "\n",
    "from torch.autograd import Variable\n",
    "import torch\n",
    "import torch.nn as nn\n",
    "import torch.nn.functional as F\n",
    "import torch.optim as optim\n",
    "import torch.optim.lr_scheduler\n",
    "\n",
    "from torch.utils.data import Dataset, DataLoader\n",
    "\n",
    "device = torch.device(\"cuda:0\" if torch.cuda.is_available() else \"cpu\")\n",
    "\n",
    "## utils\n",
    "import numpy as np\n",
    "import random, math, time\n",
    "# 노트북일 때만 사용\n",
    "from tqdm.notebook import tqdm\n",
    "\n",
    "## File Loader\n",
    "import os#, xmltodict\n",
    "import os.path as pth\n",
    "from PIL import Image\n",
    "\n",
    "# Draw Image\n",
    "import matplotlib.pyplot as plt\n",
    "import matplotlib.patches as patches\n",
    "\n",
    "## Transformer\n",
    "from random import sample\n",
    "import albumentations as A\n",
    "from albumentations.pytorch.transforms import ToTensor\n",
    "\n",
    "# Seed\n",
    "random.seed(53)"
   ]
  },
  {
   "cell_type": "code",
   "execution_count": 81,
   "id": "7825d000",
   "metadata": {},
   "outputs": [],
   "source": [
    "# configs\n",
    "path = 'C:/Users/JungHyeona/Documents/deeplearning_seminar/Biometry_20200722'\n",
    "root_dir = '/train'\n",
    "annot_f = './{}/VOCdevkit/VOC2007/Annotations'\n",
    "image_f = path + '/train/train_img/{}/{}'\n",
    "\n",
    "classes = ['AC', 'FL', 'HC', 'HUM']\n",
    "\n",
    "num_classes = len(classes)\n",
    "feature_size = 7\n",
    "num_bboxes = 2"
   ]
  },
  {
   "cell_type": "markdown",
   "id": "760a6bf7",
   "metadata": {},
   "source": [
    "## Dataframe"
   ]
  },
  {
   "cell_type": "code",
   "execution_count": 12,
   "id": "33adbc39",
   "metadata": {},
   "outputs": [],
   "source": [
    "import pandas as pd"
   ]
  },
  {
   "cell_type": "code",
   "execution_count": 89,
   "id": "877e18a2",
   "metadata": {},
   "outputs": [],
   "source": [
    "x_y = pd.read_csv('./train/info/img_info(x,y,w,h).csv')\n",
    "minmax = pd.read_csv('./train/info/labelCoordinate_minmax.csv')"
   ]
  },
  {
   "cell_type": "code",
   "execution_count": 91,
   "id": "59b3fc18",
   "metadata": {},
   "outputs": [
    {
     "data": {
      "text/html": [
       "<div>\n",
       "<style scoped>\n",
       "    .dataframe tbody tr th:only-of-type {\n",
       "        vertical-align: middle;\n",
       "    }\n",
       "\n",
       "    .dataframe tbody tr th {\n",
       "        vertical-align: top;\n",
       "    }\n",
       "\n",
       "    .dataframe thead th {\n",
       "        text-align: right;\n",
       "    }\n",
       "</style>\n",
       "<table border=\"1\" class=\"dataframe\">\n",
       "  <thead>\n",
       "    <tr style=\"text-align: right;\">\n",
       "      <th></th>\n",
       "      <th>image_name</th>\n",
       "      <th>class_name</th>\n",
       "      <th>X</th>\n",
       "      <th>Y</th>\n",
       "      <th>W</th>\n",
       "      <th>H</th>\n",
       "    </tr>\n",
       "  </thead>\n",
       "  <tbody>\n",
       "    <tr>\n",
       "      <th>0</th>\n",
       "      <td>20160307_E0000776_I0068889.png</td>\n",
       "      <td>AC</td>\n",
       "      <td>376</td>\n",
       "      <td>108</td>\n",
       "      <td>289</td>\n",
       "      <td>274</td>\n",
       "    </tr>\n",
       "    <tr>\n",
       "      <th>1</th>\n",
       "      <td>20160307_E0000776_I0068893.png</td>\n",
       "      <td>AC</td>\n",
       "      <td>317</td>\n",
       "      <td>130</td>\n",
       "      <td>296</td>\n",
       "      <td>254</td>\n",
       "    </tr>\n",
       "    <tr>\n",
       "      <th>2</th>\n",
       "      <td>20160307_E0000777_I0069006.png</td>\n",
       "      <td>AC</td>\n",
       "      <td>245</td>\n",
       "      <td>62</td>\n",
       "      <td>408</td>\n",
       "      <td>325</td>\n",
       "    </tr>\n",
       "    <tr>\n",
       "      <th>3</th>\n",
       "      <td>20160307_E0000777_I0069020.png</td>\n",
       "      <td>AC</td>\n",
       "      <td>397</td>\n",
       "      <td>194</td>\n",
       "      <td>168</td>\n",
       "      <td>165</td>\n",
       "    </tr>\n",
       "    <tr>\n",
       "      <th>4</th>\n",
       "      <td>20160307_E0000778_I0069096.png</td>\n",
       "      <td>AC</td>\n",
       "      <td>367</td>\n",
       "      <td>121</td>\n",
       "      <td>311</td>\n",
       "      <td>283</td>\n",
       "    </tr>\n",
       "  </tbody>\n",
       "</table>\n",
       "</div>"
      ],
      "text/plain": [
       "                       image_name class_name    X    Y    W    H\n",
       "0  20160307_E0000776_I0068889.png         AC  376  108  289  274\n",
       "1  20160307_E0000776_I0068893.png         AC  317  130  296  254\n",
       "2  20160307_E0000777_I0069006.png         AC  245   62  408  325\n",
       "3  20160307_E0000777_I0069020.png         AC  397  194  168  165\n",
       "4  20160307_E0000778_I0069096.png         AC  367  121  311  283"
      ]
     },
     "execution_count": 91,
     "metadata": {},
     "output_type": "execute_result"
    }
   ],
   "source": [
    "x_y.head()"
   ]
  },
  {
   "cell_type": "code",
   "execution_count": 93,
   "id": "a89f01fa",
   "metadata": {},
   "outputs": [
    {
     "data": {
      "text/html": [
       "<div>\n",
       "<style scoped>\n",
       "    .dataframe tbody tr th:only-of-type {\n",
       "        vertical-align: middle;\n",
       "    }\n",
       "\n",
       "    .dataframe tbody tr th {\n",
       "        vertical-align: top;\n",
       "    }\n",
       "\n",
       "    .dataframe thead th {\n",
       "        text-align: right;\n",
       "    }\n",
       "</style>\n",
       "<table border=\"1\" class=\"dataframe\">\n",
       "  <thead>\n",
       "    <tr style=\"text-align: right;\">\n",
       "      <th></th>\n",
       "      <th>image_name</th>\n",
       "      <th>X_min</th>\n",
       "      <th>Y_min</th>\n",
       "      <th>X_max</th>\n",
       "      <th>Y_max</th>\n",
       "    </tr>\n",
       "  </thead>\n",
       "  <tbody>\n",
       "    <tr>\n",
       "      <th>0</th>\n",
       "      <td>20160307_E0000776_I0068889.png</td>\n",
       "      <td>376</td>\n",
       "      <td>108</td>\n",
       "      <td>665</td>\n",
       "      <td>382</td>\n",
       "    </tr>\n",
       "    <tr>\n",
       "      <th>1</th>\n",
       "      <td>20160307_E0000776_I0068893.png</td>\n",
       "      <td>317</td>\n",
       "      <td>130</td>\n",
       "      <td>613</td>\n",
       "      <td>384</td>\n",
       "    </tr>\n",
       "    <tr>\n",
       "      <th>2</th>\n",
       "      <td>20160307_E0000777_I0069006.png</td>\n",
       "      <td>245</td>\n",
       "      <td>62</td>\n",
       "      <td>653</td>\n",
       "      <td>387</td>\n",
       "    </tr>\n",
       "    <tr>\n",
       "      <th>3</th>\n",
       "      <td>20160307_E0000777_I0069020.png</td>\n",
       "      <td>397</td>\n",
       "      <td>194</td>\n",
       "      <td>565</td>\n",
       "      <td>359</td>\n",
       "    </tr>\n",
       "    <tr>\n",
       "      <th>4</th>\n",
       "      <td>20160307_E0000778_I0069096.png</td>\n",
       "      <td>367</td>\n",
       "      <td>121</td>\n",
       "      <td>678</td>\n",
       "      <td>404</td>\n",
       "    </tr>\n",
       "  </tbody>\n",
       "</table>\n",
       "</div>"
      ],
      "text/plain": [
       "                       image_name  X_min  Y_min  X_max  Y_max\n",
       "0  20160307_E0000776_I0068889.png    376    108    665    382\n",
       "1  20160307_E0000776_I0068893.png    317    130    613    384\n",
       "2  20160307_E0000777_I0069006.png    245     62    653    387\n",
       "3  20160307_E0000777_I0069020.png    397    194    565    359\n",
       "4  20160307_E0000778_I0069096.png    367    121    678    404"
      ]
     },
     "execution_count": 93,
     "metadata": {},
     "output_type": "execute_result"
    }
   ],
   "source": [
    "minmax.head()"
   ]
  },
  {
   "cell_type": "markdown",
   "id": "71e5ad62",
   "metadata": {},
   "source": [
    "## utils"
   ]
  },
  {
   "cell_type": "code",
   "execution_count": 102,
   "id": "13ee9a3f",
   "metadata": {},
   "outputs": [],
   "source": [
    "def draw_image(x_y, minmax, w=320, h=320, transforms=None):\n",
    "    im = np.array(Image.open(image_f.format('AC', df['image_name'][0])).resize((w,h)), dtype=np.uint8)\n",
    "\n",
    "    # Create figure and axes\n",
    "    fig, ax = plt.subplots(1, figsize=(7,7))\n",
    "\n",
    "    xmin = minmax['X_min']\n",
    "    xmax = minmax['X_max']\n",
    "    ymin = minmax['Y_min']\n",
    "    ymax = minmax['Y_max']\n",
    "    la = x_y['class_name']\n",
    "\n",
    "    if transforms:\n",
    "        sample = transforms(image=im, xmin=xmin, xmax=xmax, ymin=ymin, ymax=ymax, category_ids=la)\n",
    "        im = sample['image'].permute(1,2,0).numpy()\n",
    "        xmin = sample['X_min']\n",
    "        xmax = sample['X_max']\n",
    "        ymin = sample['Y_min']\n",
    "        ymax = sample['Y_max']\n",
    "        la = sample['category_ids']\n",
    "\n",
    "    # Display the image\n",
    "    ax.imshow(im)\n",
    "\n",
    "\n",
    "    # Create a Rectangle patch\n",
    "    #for l in zip(la):\n",
    "    # top left (x, y) , (w, h)\n",
    "    rect = patches.Rectangle((x_y['X'], x_y['Y']), x_y['W'], x_y['H'], linewidth=1, edgecolor='r', facecolor='none')\n",
    "    # Add the patch to the Axes\n",
    "    ax.add_patch(rect)\n",
    "    props = dict(boxstyle='round', facecolor='red', alpha=0.9)\n",
    "    plt.text(x_y['X'], x_y['Y'], classes[0], fontsize=10, color='white')\n",
    "    plt.axis('off')\n",
    "    plt.show()"
   ]
  },
  {
   "cell_type": "code",
   "execution_count": 110,
   "id": "239ef2b0",
   "metadata": {},
   "outputs": [
    {
     "ename": "ValueError",
     "evalue": "The truth value of a DataFrame is ambiguous. Use a.empty, a.bool(), a.item(), a.any() or a.all().",
     "output_type": "error",
     "traceback": [
      "\u001b[1;31m---------------------------------------------------------------------------\u001b[0m",
      "\u001b[1;31mValueError\u001b[0m                                Traceback (most recent call last)",
      "\u001b[1;32m~\\AppData\\Local\\Temp\\ipykernel_18984\\3522410484.py\u001b[0m in \u001b[0;36m<module>\u001b[1;34m\u001b[0m\n\u001b[1;32m----> 1\u001b[1;33m \u001b[0mdraw_image\u001b[0m\u001b[1;33m(\u001b[0m\u001b[0mx_y\u001b[0m\u001b[1;33m,\u001b[0m \u001b[0mminmax\u001b[0m\u001b[1;33m)\u001b[0m\u001b[1;33m\u001b[0m\u001b[1;33m\u001b[0m\u001b[0m\n\u001b[0m",
      "\u001b[1;32m~\\AppData\\Local\\Temp\\ipykernel_18984\\244394200.py\u001b[0m in \u001b[0;36mdraw_image\u001b[1;34m(df, w, h, transforms)\u001b[0m\n\u001b[0;32m      1\u001b[0m \u001b[1;32mdef\u001b[0m \u001b[0mdraw_image\u001b[0m\u001b[1;33m(\u001b[0m\u001b[0mdf\u001b[0m\u001b[1;33m,\u001b[0m \u001b[0mw\u001b[0m\u001b[1;33m=\u001b[0m\u001b[1;36m320\u001b[0m\u001b[1;33m,\u001b[0m \u001b[0mh\u001b[0m\u001b[1;33m=\u001b[0m\u001b[1;36m320\u001b[0m\u001b[1;33m,\u001b[0m \u001b[0mtransforms\u001b[0m\u001b[1;33m=\u001b[0m\u001b[1;32mNone\u001b[0m\u001b[1;33m)\u001b[0m\u001b[1;33m:\u001b[0m\u001b[1;33m\u001b[0m\u001b[1;33m\u001b[0m\u001b[0m\n\u001b[1;32m----> 2\u001b[1;33m     \u001b[0mim\u001b[0m \u001b[1;33m=\u001b[0m \u001b[0mnp\u001b[0m\u001b[1;33m.\u001b[0m\u001b[0marray\u001b[0m\u001b[1;33m(\u001b[0m\u001b[0mImage\u001b[0m\u001b[1;33m.\u001b[0m\u001b[0mopen\u001b[0m\u001b[1;33m(\u001b[0m\u001b[0mimage_f\u001b[0m\u001b[1;33m.\u001b[0m\u001b[0mformat\u001b[0m\u001b[1;33m(\u001b[0m\u001b[1;34m'AC'\u001b[0m\u001b[1;33m,\u001b[0m \u001b[0mdf\u001b[0m\u001b[1;33m[\u001b[0m\u001b[1;34m'image_name'\u001b[0m\u001b[1;33m]\u001b[0m\u001b[1;33m[\u001b[0m\u001b[1;36m0\u001b[0m\u001b[1;33m]\u001b[0m\u001b[1;33m)\u001b[0m\u001b[1;33m)\u001b[0m\u001b[1;33m.\u001b[0m\u001b[0mresize\u001b[0m\u001b[1;33m(\u001b[0m\u001b[1;33m(\u001b[0m\u001b[0mw\u001b[0m\u001b[1;33m,\u001b[0m\u001b[0mh\u001b[0m\u001b[1;33m)\u001b[0m\u001b[1;33m)\u001b[0m\u001b[1;33m,\u001b[0m \u001b[0mdtype\u001b[0m\u001b[1;33m=\u001b[0m\u001b[0mnp\u001b[0m\u001b[1;33m.\u001b[0m\u001b[0muint8\u001b[0m\u001b[1;33m)\u001b[0m\u001b[1;33m\u001b[0m\u001b[1;33m\u001b[0m\u001b[0m\n\u001b[0m\u001b[0;32m      3\u001b[0m \u001b[1;33m\u001b[0m\u001b[0m\n\u001b[0;32m      4\u001b[0m     \u001b[1;31m# Create figure and axes\u001b[0m\u001b[1;33m\u001b[0m\u001b[1;33m\u001b[0m\u001b[0m\n\u001b[0;32m      5\u001b[0m     \u001b[0mfig\u001b[0m\u001b[1;33m,\u001b[0m\u001b[0max\u001b[0m \u001b[1;33m=\u001b[0m \u001b[0mplt\u001b[0m\u001b[1;33m.\u001b[0m\u001b[0msubplots\u001b[0m\u001b[1;33m(\u001b[0m\u001b[1;36m1\u001b[0m\u001b[1;33m,\u001b[0m \u001b[0mfigsize\u001b[0m\u001b[1;33m=\u001b[0m\u001b[1;33m(\u001b[0m\u001b[1;36m7\u001b[0m\u001b[1;33m,\u001b[0m\u001b[1;36m7\u001b[0m\u001b[1;33m)\u001b[0m\u001b[1;33m)\u001b[0m\u001b[1;33m\u001b[0m\u001b[1;33m\u001b[0m\u001b[0m\n",
      "\u001b[1;32m~\\anaconda3\\lib\\site-packages\\PIL\\Image.py\u001b[0m in \u001b[0;36mresize\u001b[1;34m(self, size, resample, box, reducing_gap)\u001b[0m\n\u001b[0;32m   2050\u001b[0m             \u001b[0mbox\u001b[0m \u001b[1;33m=\u001b[0m \u001b[0mtuple\u001b[0m\u001b[1;33m(\u001b[0m\u001b[0mbox\u001b[0m\u001b[1;33m)\u001b[0m\u001b[1;33m\u001b[0m\u001b[1;33m\u001b[0m\u001b[0m\n\u001b[0;32m   2051\u001b[0m \u001b[1;33m\u001b[0m\u001b[0m\n\u001b[1;32m-> 2052\u001b[1;33m         \u001b[1;32mif\u001b[0m \u001b[0mself\u001b[0m\u001b[1;33m.\u001b[0m\u001b[0msize\u001b[0m \u001b[1;33m==\u001b[0m \u001b[0msize\u001b[0m \u001b[1;32mand\u001b[0m \u001b[0mbox\u001b[0m \u001b[1;33m==\u001b[0m \u001b[1;33m(\u001b[0m\u001b[1;36m0\u001b[0m\u001b[1;33m,\u001b[0m \u001b[1;36m0\u001b[0m\u001b[1;33m)\u001b[0m \u001b[1;33m+\u001b[0m \u001b[0mself\u001b[0m\u001b[1;33m.\u001b[0m\u001b[0msize\u001b[0m\u001b[1;33m:\u001b[0m\u001b[1;33m\u001b[0m\u001b[1;33m\u001b[0m\u001b[0m\n\u001b[0m\u001b[0;32m   2053\u001b[0m             \u001b[1;32mreturn\u001b[0m \u001b[0mself\u001b[0m\u001b[1;33m.\u001b[0m\u001b[0mcopy\u001b[0m\u001b[1;33m(\u001b[0m\u001b[1;33m)\u001b[0m\u001b[1;33m\u001b[0m\u001b[1;33m\u001b[0m\u001b[0m\n\u001b[0;32m   2054\u001b[0m \u001b[1;33m\u001b[0m\u001b[0m\n",
      "\u001b[1;32m~\\anaconda3\\lib\\site-packages\\pandas\\core\\generic.py\u001b[0m in \u001b[0;36m__nonzero__\u001b[1;34m(self)\u001b[0m\n\u001b[0;32m   1525\u001b[0m     \u001b[1;33m@\u001b[0m\u001b[0mfinal\u001b[0m\u001b[1;33m\u001b[0m\u001b[1;33m\u001b[0m\u001b[0m\n\u001b[0;32m   1526\u001b[0m     \u001b[1;32mdef\u001b[0m \u001b[0m__nonzero__\u001b[0m\u001b[1;33m(\u001b[0m\u001b[0mself\u001b[0m\u001b[1;33m)\u001b[0m\u001b[1;33m:\u001b[0m\u001b[1;33m\u001b[0m\u001b[1;33m\u001b[0m\u001b[0m\n\u001b[1;32m-> 1527\u001b[1;33m         raise ValueError(\n\u001b[0m\u001b[0;32m   1528\u001b[0m             \u001b[1;34mf\"The truth value of a {type(self).__name__} is ambiguous. \"\u001b[0m\u001b[1;33m\u001b[0m\u001b[1;33m\u001b[0m\u001b[0m\n\u001b[0;32m   1529\u001b[0m             \u001b[1;34m\"Use a.empty, a.bool(), a.item(), a.any() or a.all().\"\u001b[0m\u001b[1;33m\u001b[0m\u001b[1;33m\u001b[0m\u001b[0m\n",
      "\u001b[1;31mValueError\u001b[0m: The truth value of a DataFrame is ambiguous. Use a.empty, a.bool(), a.item(), a.any() or a.all()."
     ]
    }
   ],
   "source": [
    "draw_image(x_y, minmax)"
   ]
  },
  {
   "cell_type": "markdown",
   "id": "1659fff3",
   "metadata": {},
   "source": [
    "## image와 box, label정보를 가져와주는 함수"
   ]
  },
  {
   "cell_type": "code",
   "execution_count": null,
   "id": "8a180cad",
   "metadata": {},
   "outputs": [],
   "source": [
    "# dataset # VOC\n",
    "def get_infos(annot_f=annot_f, mode='train'):\n",
    "    annot_dir = annot_f.format(mode)\n",
    "    result = []\n",
    "    for ano in [pth.join(annot_dir, ano) for ano in os.listdir(annot_dir)]:\n",
    "        f = open(ano)\n",
    "        info = xmltodict.parse(f.read())['annotation']\n",
    "        image_id = info['filename']\n",
    "        image_size = np.asarray(tuple(map(int, info['size'].values()))[:2], np.int16)\n",
    "        w, h = image_size\n",
    "        box_objects = info['object']\n",
    "        labels = []\n",
    "        bboxs = []\n",
    "        for obj in box_objects:\n",
    "            try:\n",
    "                labels.append(classes.index(obj['name'].lower()))\n",
    "                bboxs.append(tuple(map(int, obj['bndbox'].values())))\n",
    "            except: pass\n",
    "\n",
    "        # Resizing Box, Change x1 y1 x2 y2\n",
    "        # albumentations (normalized box)\n",
    "        bboxs = np.asarray(bboxs, dtype=np.float64)\n",
    "        try:\n",
    "            bboxs[:, [0,2]] /= w\n",
    "            bboxs[:, [1,3]] /= h\n",
    "        except: pass\n",
    "        if bboxs.shape[0] or mode=='test':\n",
    "            result.append({'image_id':image_id, 'image_size':image_size, 'bboxs':bboxs, 'labels':labels})\n",
    "\n",
    "    return result\n",
    "    \n",
    "trval_list = get_infos()\n",
    "test_list = get_infos(mode='test')\n",
    "\n",
    "len(trval_list), len(test_list)"
   ]
  },
  {
   "cell_type": "code",
   "execution_count": null,
   "id": "89067978",
   "metadata": {},
   "outputs": [],
   "source": []
  }
 ],
 "metadata": {
  "kernelspec": {
   "display_name": "Python 3 (ipykernel)",
   "language": "python",
   "name": "python3"
  },
  "language_info": {
   "codemirror_mode": {
    "name": "ipython",
    "version": 3
   },
   "file_extension": ".py",
   "mimetype": "text/x-python",
   "name": "python",
   "nbconvert_exporter": "python",
   "pygments_lexer": "ipython3",
   "version": "3.9.13"
  }
 },
 "nbformat": 4,
 "nbformat_minor": 5
}
