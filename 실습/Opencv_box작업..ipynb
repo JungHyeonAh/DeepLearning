{
 "cells": [
  {
   "cell_type": "markdown",
   "id": "35e9e7a2",
   "metadata": {},
   "source": [
    "## Object detection 전 box작업<br>\n",
    "#### object detection을 하기 위해서는 내가 box할 좌표가 필요함\n",
    "#### 때문에 opencv2를 사용해서 좌표를 얻은 후 csv파일에 image이름 좌표들로 값 저장해야함.\n",
    "\n",
    "##### https://youbidan.tistory.com/19"
   ]
  },
  {
   "cell_type": "code",
   "execution_count": 1,
   "id": "a131364d",
   "metadata": {},
   "outputs": [],
   "source": [
    "import os\n",
    "import cv2, sys\n",
    "import numpy as np\n",
    "\n",
    "from matplotlib import pyplot as plt\n",
    "\n",
    "import pandas as pd\n",
    "from collections import OrderedDict #컬럼 순서를 지정하면서 데이터 프레임을 구성"
   ]
  },
  {
   "cell_type": "code",
   "execution_count": 2,
   "id": "b1c62f02",
   "metadata": {},
   "outputs": [],
   "source": [
    "path = 'C:/Users/JungHyeona/Documents/deeplearning_seminar/Biometry_20200722/AC/train/label'"
   ]
  },
  {
   "cell_type": "code",
   "execution_count": 7,
   "id": "a57d6d5a",
   "metadata": {},
   "outputs": [],
   "source": [
    "def find_edge(image):\n",
    "    \n",
    "    blur = cv2.GaussianBlur(image, ksize=(5, 5), sigmaX=0)\n",
    "    ret, thresh = cv2.threshold(blur, 127, 255, cv2.THRESH_BINARY)\n",
    "    \n",
    "    # edge\n",
    "    edged = cv2.Canny(blur, 10, 250)\n",
    "\n",
    "    # edge image로 closed 찾기.\n",
    "    kernel = cv2.getStructuringElement(cv2.MORPH_RECT, (7, 7))\n",
    "    closed = cv2.morphologyEx(edged, cv2.MORPH_CLOSE, kernel)\n",
    "\n",
    "    contours, _ = cv2.findContours(closed.copy(), cv2.RETR_EXTERNAL, cv2.CHAIN_APPROX_SIMPLE)\n",
    "    total = 0\n",
    "\n",
    "    contours_img = cv2.drawContours(image, contours, -1, (0, 255, 0), 3)\n",
    "\n",
    "    contours_xy = np.array(contours)\n",
    "    contours_xy.shape\n",
    "    \n",
    "    return contours_xy"
   ]
  },
  {
   "cell_type": "code",
   "execution_count": 8,
   "id": "20f7cab7",
   "metadata": {},
   "outputs": [],
   "source": [
    "def coordinate(contours_xy):\n",
    "    x_min, x_max, y_min, y_max = 0, 0, 0, 0\n",
    "    value_x = list()\n",
    "    value_y = list()\n",
    "\n",
    "    for i in range(len(contours_xy)):\n",
    "        for j in range(len(contours_xy[i])):\n",
    "            value_x.append(contours_xy[i][j][0][0])\n",
    "            value_y.append(contours_xy[i][j][0][1])\n",
    "            \n",
    "            x_min = min(value_x)\n",
    "            x_max = max(value_x)\n",
    "            y_min = min(value_y)\n",
    "            y_max = max(value_y)\n",
    "            \n",
    "    # x, y, w, h 값 계산하기.\n",
    "    x = x_min\n",
    "    y = y_min\n",
    "    w = x_max - x_min\n",
    "    h = y_max - y_min\n",
    "    \n",
    "    '''\n",
    "    print(\"x_min : \", x_min , \" / x_max : \", x_max)\n",
    "    print(\"x_min : \", y_min , \" / x_max : \", y_max)\n",
    "    print(\"x : \", x, \" / y : \", y, \" / w: \", w, \" / h : \", h)\n",
    "    '''\n",
    "    \n",
    "    #return x, y, w, h\n",
    "    return x_min, y_min, x_max, y_max"
   ]
  },
  {
   "cell_type": "code",
   "execution_count": 11,
   "id": "7a44af6e",
   "metadata": {
    "scrolled": true
   },
   "outputs": [],
   "source": [
    "image_name = []\n",
    "X, Y, W, H = [], [], [], []\n",
    "X_min, Y_min, X_max, Y_max = [], [], [], []\n",
    "\n",
    "\n",
    "for img_file in os.listdir(path):\n",
    "    file = os.path.join(path, img_file)\n",
    "\n",
    "    image = cv2.imread(file)\n",
    "    img_name = os.path.basename(file)\n",
    "    # x, y 좌표 불러오기\n",
    "    contours_xy = find_edge(image)\n",
    "    \n",
    "    # x, y, w, h값 가져오기.\n",
    "    #x, y, w, h = coordinate(contours_xy)\n",
    "    \n",
    "    # x_min, y_min, x_max, y_max값 가져오기.\n",
    "    x_min, y_min, x_max, y_max = coordinate(contours_xy)\n",
    "    \n",
    "    # csv파일에 저장하기.\n",
    "    #create_dataframe(img_name, x, y, w, h)\n",
    "\n",
    "    image_name.append(img_name)\n",
    "    '''\n",
    "    X.append(x)\n",
    "    Y.append(y)\n",
    "    W.append(w)\n",
    "    H.append(h)\n",
    "    '''\n",
    "    X_min.append(x_min)\n",
    "    Y_min.append(y_min)\n",
    "    X_max.append(x_max)\n",
    "    Y_max.append(y_max)"
   ]
  },
  {
   "cell_type": "markdown",
   "id": "442cfecd",
   "metadata": {},
   "source": [
    "# DataFrame"
   ]
  },
  {
   "cell_type": "code",
   "execution_count": 36,
   "id": "5f5554a8",
   "metadata": {},
   "outputs": [],
   "source": [
    "# object box의 꼭짓점 좌표들. 이미지에서 객체가 있는 곳을 자르기 위한 값.\n",
    "data = {'image_name' : image_name, 'X' : X, 'Y' : Y, 'W' : W, 'H' : H}\n",
    "df = pd.DataFrame(data)"
   ]
  },
  {
   "cell_type": "code",
   "execution_count": null,
   "id": "cb48da59",
   "metadata": {},
   "outputs": [],
   "source": [
    "df.head()"
   ]
  },
  {
   "cell_type": "code",
   "execution_count": null,
   "id": "a9296899",
   "metadata": {},
   "outputs": [],
   "source": [
    "df.to_csv('C:/Users/JungHyeona/Documents/deeplearning_seminar/Biometry_20200722/AC/train/labelCoordinate_01.csv', index=None) #csv파일로 생성"
   ]
  },
  {
   "cell_type": "code",
   "execution_count": 12,
   "id": "4c890308",
   "metadata": {},
   "outputs": [],
   "source": [
    "# 물체가 가지는 x, y좌표값의 각 최대값과 최솟값을 의미한다.\n",
    "data = {'image_name' : image_name, 'X_min' : X_min, 'Y_min' : Y_min, 'X_max' : X_max, 'Y_max' : Y_max}\n",
    "df = pd.DataFrame(data)"
   ]
  },
  {
   "cell_type": "code",
   "execution_count": 14,
   "id": "d3379314",
   "metadata": {},
   "outputs": [
    {
     "data": {
      "text/html": [
       "<div>\n",
       "<style scoped>\n",
       "    .dataframe tbody tr th:only-of-type {\n",
       "        vertical-align: middle;\n",
       "    }\n",
       "\n",
       "    .dataframe tbody tr th {\n",
       "        vertical-align: top;\n",
       "    }\n",
       "\n",
       "    .dataframe thead th {\n",
       "        text-align: right;\n",
       "    }\n",
       "</style>\n",
       "<table border=\"1\" class=\"dataframe\">\n",
       "  <thead>\n",
       "    <tr style=\"text-align: right;\">\n",
       "      <th></th>\n",
       "      <th>image_name</th>\n",
       "      <th>X_min</th>\n",
       "      <th>Y_min</th>\n",
       "      <th>X_max</th>\n",
       "      <th>Y_max</th>\n",
       "    </tr>\n",
       "  </thead>\n",
       "  <tbody>\n",
       "    <tr>\n",
       "      <th>0</th>\n",
       "      <td>20151103_E0000056_I0004613.png</td>\n",
       "      <td>343</td>\n",
       "      <td>111</td>\n",
       "      <td>605</td>\n",
       "      <td>383</td>\n",
       "    </tr>\n",
       "    <tr>\n",
       "      <th>1</th>\n",
       "      <td>20151103_E0000057_I0004695.png</td>\n",
       "      <td>453</td>\n",
       "      <td>90</td>\n",
       "      <td>698</td>\n",
       "      <td>335</td>\n",
       "    </tr>\n",
       "    <tr>\n",
       "      <th>2</th>\n",
       "      <td>20151103_E0000057_I0004696.png</td>\n",
       "      <td>444</td>\n",
       "      <td>81</td>\n",
       "      <td>677</td>\n",
       "      <td>326</td>\n",
       "    </tr>\n",
       "    <tr>\n",
       "      <th>3</th>\n",
       "      <td>20151103_E0000058_I0004790.png</td>\n",
       "      <td>402</td>\n",
       "      <td>235</td>\n",
       "      <td>578</td>\n",
       "      <td>418</td>\n",
       "    </tr>\n",
       "    <tr>\n",
       "      <th>4</th>\n",
       "      <td>20151103_E0000059_I0004888.png</td>\n",
       "      <td>401</td>\n",
       "      <td>161</td>\n",
       "      <td>599</td>\n",
       "      <td>359</td>\n",
       "    </tr>\n",
       "  </tbody>\n",
       "</table>\n",
       "</div>"
      ],
      "text/plain": [
       "                       image_name  X_min  Y_min  X_max  Y_max\n",
       "0  20151103_E0000056_I0004613.png    343    111    605    383\n",
       "1  20151103_E0000057_I0004695.png    453     90    698    335\n",
       "2  20151103_E0000057_I0004696.png    444     81    677    326\n",
       "3  20151103_E0000058_I0004790.png    402    235    578    418\n",
       "4  20151103_E0000059_I0004888.png    401    161    599    359"
      ]
     },
     "execution_count": 14,
     "metadata": {},
     "output_type": "execute_result"
    }
   ],
   "source": [
    "df.head()"
   ]
  },
  {
   "cell_type": "code",
   "execution_count": 15,
   "id": "d8d3ca54",
   "metadata": {},
   "outputs": [],
   "source": [
    "df.to_csv('C:/Users/JungHyeona/Documents/deeplearning_seminar/Biometry_20200722/AC/train/labelCoordinate_minmax_01.csv', index=None) #csv파일로 생성"
   ]
  },
  {
   "cell_type": "code",
   "execution_count": null,
   "id": "46eae204",
   "metadata": {},
   "outputs": [],
   "source": []
  }
 ],
 "metadata": {
  "kernelspec": {
   "display_name": "Python 3 (ipykernel)",
   "language": "python",
   "name": "python3"
  },
  "language_info": {
   "codemirror_mode": {
    "name": "ipython",
    "version": 3
   },
   "file_extension": ".py",
   "mimetype": "text/x-python",
   "name": "python",
   "nbconvert_exporter": "python",
   "pygments_lexer": "ipython3",
   "version": "3.9.13"
  }
 },
 "nbformat": 4,
 "nbformat_minor": 5
}
