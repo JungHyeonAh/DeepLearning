{
 "cells": [
  {
   "cell_type": "markdown",
   "id": "dc769191-3d27-47a6-b8af-1bce9cff8fb3",
   "metadata": {},
   "source": [
    "# KNN 알고리즘"
   ]
  },
  {
   "cell_type": "code",
   "execution_count": 1,
   "id": "430ed9c0-a981-4b5c-a383-b39706945f57",
   "metadata": {},
   "outputs": [],
   "source": [
    "import matplotlib.pyplot as plt\n",
    "import pandas as pd\n",
    "import numpy as np\n",
    "\n",
    "from sklearn.model_selection import train_test_split\n",
    "from sklearn.neighbors import KNeighborsClassifier\n",
    "from sklearn.metrics import accuracy_score\n",
    "\n",
    "import os\n",
    "import cv2\n",
    "from PIL import Image"
   ]
  },
  {
   "cell_type": "markdown",
   "id": "efa5a28c-a881-44d3-b419-96aeb83a070a",
   "metadata": {},
   "source": [
    "### 데이터 불러오기"
   ]
  },
  {
   "cell_type": "code",
   "execution_count": 2,
   "id": "24b414b2-8ec3-44ed-ac33-bc6104b07cdb",
   "metadata": {
    "tags": []
   },
   "outputs": [],
   "source": [
    "# 데이터 불러오기\n",
    "train = []\n",
    "label = []\n",
    "label_name = [\"AC\", \"FL\", \"HC\", \"HUM\"]\n",
    "\n",
    "# 이미지 사이즈 조정하기\n",
    "img_size = (224, 224)\n",
    "\n",
    "for i in label_name:  # label_name 값을 i에 저장하고, 총 4번 돌아감.\n",
    "    forder = f\"C:/Users/JungHyeona/Desktop/KNN/{i}\"\n",
    "    \n",
    "    for j in os.listdir(forder):  # forder 내에 있는 데이터를 j에 저장.\n",
    "        if j.endswith('.png'):    # 파일 내에서 png데이터만을 가져옴.\n",
    "            file = os.path.join(forder, j)\n",
    "            \n",
    "            img = cv2.imread(file, cv2.IMREAD_UNCHANGED)   # 이미지 데이터이기 때문에 cv2를 사용해 불러온다.\n",
    "            img_resize = cv2.resize(img, img_size)         # 이미지 크기 조정\n",
    "            fla = img_resize.flatten()   # 다차원 배열 공간을 1차원으로 평탄화해준다.\n",
    "            \n",
    "            train.append(fla)\n",
    "            # label에 폴더 이름을 넣고 돌렸을 때, data와 label의 데이터 수가 달랐음.\n",
    "            #   -> label = [A,~ M]으로 선언해서 데이터마다 label이 붙지 않아 오류가 발생했었음.\n",
    "            label.append(i)"
   ]
  },
  {
   "cell_type": "code",
   "execution_count": 3,
   "id": "88d808da-6343-444b-bb4f-7709076e3ae8",
   "metadata": {},
   "outputs": [
    {
     "data": {
      "text/plain": [
       "['AC', 'AC', 'AC', 'AC', 'AC']"
      ]
     },
     "execution_count": 3,
     "metadata": {},
     "output_type": "execute_result"
    }
   ],
   "source": [
    "label[:5]"
   ]
  },
  {
   "cell_type": "code",
   "execution_count": 4,
   "id": "d40848ad-95f9-47fe-ba76-f66b1fd3b65c",
   "metadata": {},
   "outputs": [],
   "source": [
    "# sklearn을 위해 2차원으로 조정\n",
    "train = np.array(train)\n",
    "label = np.array(label)"
   ]
  },
  {
   "cell_type": "code",
   "execution_count": 5,
   "id": "0513e3ad-0015-4af5-ade7-bdad1223e7f1",
   "metadata": {},
   "outputs": [
    {
     "data": {
      "text/plain": [
       "array([[0, 0, 0, ..., 0, 0, 0],\n",
       "       [0, 0, 0, ..., 0, 0, 0],\n",
       "       [0, 0, 0, ..., 0, 0, 0],\n",
       "       ...,\n",
       "       [0, 0, 0, ..., 0, 0, 0],\n",
       "       [0, 0, 0, ..., 0, 0, 0],\n",
       "       [0, 0, 0, ..., 0, 0, 0]], dtype=uint8)"
      ]
     },
     "execution_count": 5,
     "metadata": {},
     "output_type": "execute_result"
    }
   ],
   "source": [
    "train"
   ]
  },
  {
   "cell_type": "code",
   "execution_count": 6,
   "id": "e89ec7c6-752a-4636-9d2d-d4ace8c69215",
   "metadata": {},
   "outputs": [
    {
     "data": {
      "text/plain": [
       "(1216, 150528)"
      ]
     },
     "execution_count": 6,
     "metadata": {},
     "output_type": "execute_result"
    }
   ],
   "source": [
    "train.shape"
   ]
  },
  {
   "cell_type": "markdown",
   "id": "144d05c8-968c-4c7a-a040-b9010db8d584",
   "metadata": {},
   "source": [
    "## 데이터 셋 train과 test로 분리"
   ]
  },
  {
   "cell_type": "code",
   "execution_count": 43,
   "id": "3e68a5de-38eb-4729-a9b4-c476c7379620",
   "metadata": {
    "tags": []
   },
   "outputs": [],
   "source": [
    "X_train, X_test, Y_train, Y_test = train_test_split(train, label, test_size = 0.3, random_state=34)"
   ]
  },
  {
   "cell_type": "markdown",
   "id": "e86139fd-e84a-4a60-9a77-0cf65d6e418a",
   "metadata": {},
   "source": [
    "## KNN 모델 생성 및 실행"
   ]
  },
  {
   "cell_type": "code",
   "execution_count": 44,
   "id": "82b43a1c-064a-4f73-9978-af7a695e0ff1",
   "metadata": {},
   "outputs": [],
   "source": [
    "knn = KNeighborsClassifier(n_neighbors = 1)"
   ]
  },
  {
   "cell_type": "code",
   "execution_count": 45,
   "id": "dd49b714-d4b4-4f0f-a08a-334db7ab9574",
   "metadata": {
    "tags": []
   },
   "outputs": [
    {
     "data": {
      "text/plain": [
       "KNeighborsClassifier(n_neighbors=1)"
      ]
     },
     "execution_count": 45,
     "metadata": {},
     "output_type": "execute_result"
    }
   ],
   "source": [
    "knn.fit(X_train, Y_train)"
   ]
  },
  {
   "cell_type": "markdown",
   "id": "e6c84536-4daa-4095-a412-ecf210de53ae",
   "metadata": {},
   "source": [
    "## 모델 평가"
   ]
  },
  {
   "cell_type": "code",
   "execution_count": 46,
   "id": "74e40e7c-0f02-42ee-8575-9a8f5b3897bb",
   "metadata": {
    "tags": []
   },
   "outputs": [
    {
     "name": "stdout",
     "output_type": "stream",
     "text": [
      "Test Accuracy: 0.4931506849315068\n"
     ]
    },
    {
     "name": "stderr",
     "output_type": "stream",
     "text": [
      "C:\\Users\\JungHyeona\\anaconda3\\lib\\site-packages\\sklearn\\neighbors\\_classification.py:228: FutureWarning: Unlike other reduction functions (e.g. `skew`, `kurtosis`), the default behavior of `mode` typically preserves the axis it acts along. In SciPy 1.11.0, this behavior will change: the default value of `keepdims` will become False, the `axis` over which the statistic is taken will be eliminated, and the value None will no longer be accepted. Set `keepdims` to True or False to avoid this warning.\n",
      "  mode, _ = stats.mode(_y[neigh_ind, k], axis=1)\n"
     ]
    }
   ],
   "source": [
    "pred_labels = knn.predict(X_test)\n",
    "accuracy = accuracy_score(Y_test, pred_labels)\n",
    "\n",
    "print(\"Test Accuracy:\", accuracy)"
   ]
  },
  {
   "cell_type": "markdown",
   "id": "6a196e9a-599b-4890-8e8f-3dff60375f59",
   "metadata": {},
   "source": [
    "## 정리"
   ]
  },
  {
   "cell_type": "markdown",
   "id": "83cf6313-1ebf-4728-b746-8b8af725f7f5",
   "metadata": {},
   "source": [
    "이미지 데이터를 사용할 때는 꼭 사진의 크기를 조정해주어야 한다.\n",
    " -> 이미지마다 크기가 다 다르기 때문이다.\n",
    "\n",
    "이후 numpy를 사용해 train을 2차원 배열로 변환했다.\n",
    " -> sklearn을 사용할 때, 2차원 배열을 값을 받기에 변환을 해주어야 한다.\n",
    "\n",
    "데이터를 train과 test로 분리할 때 random_state의 차이를 확인해 보기위해 사용해본 결과\n",
    "k=1이고 random 일 때, 0.01정도 차이가 있었다.\n",
    "random을 사용하게 될 경우 매번 다른 train, test 데이터가 생성되어서 조금의 차이가 있던 것 같다.\n",
    "\n",
    "k의 개수를 3~20까지 해본 결과, 7부터 약 0.50 정도의 예측값이 나왔다.\n",
    "하지만 개수를 무작정 늘리게 될 경우 같지 않은 이미지도 포함이 될 수 있어 위험한 부분이 존재한다.\n",
    "\n",
    "knn에서 이미지 데이터를 사용하게 될 경우 데이터의 양이나 k의 개수를 등 여러 조건을 조절했을 때\n",
    "좋은 성능을 내지 못했다."
   ]
  },
  {
   "cell_type": "code",
   "execution_count": null,
   "id": "5fcffaaf-4ca9-4063-8869-7a8591f7f7af",
   "metadata": {},
   "outputs": [],
   "source": []
  }
 ],
 "metadata": {
  "kernelspec": {
   "display_name": "Python 3 (ipykernel)",
   "language": "python",
   "name": "python3"
  },
  "language_info": {
   "codemirror_mode": {
    "name": "ipython",
    "version": 3
   },
   "file_extension": ".py",
   "mimetype": "text/x-python",
   "name": "python",
   "nbconvert_exporter": "python",
   "pygments_lexer": "ipython3",
   "version": "3.9.13"
  }
 },
 "nbformat": 4,
 "nbformat_minor": 5
}
